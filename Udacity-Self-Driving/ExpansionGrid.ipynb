{
 "cells": [
  {
   "cell_type": "code",
   "execution_count": 14,
   "outputs": [],
   "source": [
    "# ----------\n",
    "# User Instructions:\n",
    "# \n",
    "# Define a function, search() that returns a list\n",
    "# in the form of [optimal path length, row, col]. For\n",
    "# the grid shown below, your function should output\n",
    "# [11, 4, 5].\n",
    "#\n",
    "# If there is no valid path from the start point\n",
    "# to the goal, your function should return the string\n",
    "# 'fail'\n",
    "# ----------\n",
    "\n",
    "# Grid format:\n",
    "#   0 = Navigable space\n",
    "#   1 = Occupied space\n",
    "\n",
    "\n",
    "grid = [[0, 0, 1, 0, 0, 0],\n",
    "        [0, 0, 1, 0, 0, 0],\n",
    "        [0, 0, 0, 0, 1, 0],\n",
    "        [0, 0, 1, 1, 1, 0],\n",
    "        [0, 0, 0, 0, 1, 0]]\n",
    "init = [0, 0]\n",
    "goal = [len(grid)-1, len(grid[0])-1]\n",
    "cost = 1\n",
    "\n",
    "delta = [[-1, 0], # go up\n",
    "         [ 0,-1], # go left\n",
    "         [ 1, 0], # go down\n",
    "         [ 0, 1]] # go right\n",
    "\n",
    "delta_name = ['^', '<', 'v', '>']\n"
   ],
   "metadata": {
    "collapsed": false,
    "pycharm": {
     "name": "#%%\n",
     "is_executing": false
    }
   }
  },
  {
   "cell_type": "code",
   "execution_count": 15,
   "outputs": [],
   "source": [
    "def searchexpand(grid,init,goal,cost):\n",
    "    expand = [[-1 for i in grid[1]] for j in grid]\n",
    "    expand[init[0]][init[1]] = 0\n",
    "    closed = grid\n",
    "    closed[init[0]][init[1]] = 1\n",
    "    open_ = [[0]+init]\n",
    "    grid_height = len(grid)\n",
    "    grid_width = len(grid[0])\n",
    "    found = False\n",
    "    resign = False\n",
    "    counter = 0\n",
    "    while found == False and resign == False:\n",
    "        open_.sort(key=lambda x: x[0])\n",
    "        next_ = open_[0]\n",
    "        open_.reverse()\n",
    "        open_.pop()\n",
    "        for move in delta:\n",
    "            g_ = next_[0]+cost\n",
    "            y_ = next_[1]+move[0]\n",
    "            x_ = next_[2]+move[1]\n",
    "            if 0 <= y_ < grid_height and 0 <= x_ < grid_width and closed[y_][x_]==0:\n",
    "                open_.append([g_,y_,x_])\n",
    "                counter +=1\n",
    "                expand[y_][x_] = counter\n",
    "                closed[y_][x_] = 1\n",
    "        if len(open_) == 0:\n",
    "            resign = True\n",
    "            print('fail')\n",
    "            return expand\n",
    "    return expand"
   ],
   "metadata": {
    "collapsed": false,
    "pycharm": {
     "name": "#%%\n",
     "is_executing": false
    }
   }
  },
  {
   "cell_type": "code",
   "execution_count": 16,
   "outputs": [
    {
     "name": "stdout",
     "text": [
      "fail\n",
      "[[0, 2, -1, 15, 17, 19], [1, 4, -1, 13, 16, 18], [3, 5, 8, 10, -1, 20], [6, 7, -1, -1, -1, 21], [9, 11, 12, 14, -1, 22]]\n"
     ],
     "output_type": "stream"
    }
   ],
   "source": [
    "a = searchexpand(grid,init,goal,cost)\n",
    "print(a)\n"
   ],
   "metadata": {
    "collapsed": false,
    "pycharm": {
     "name": "#%%\n",
     "is_executing": false
    }
   }
  },
  {
   "cell_type": "code",
   "execution_count": 16,
   "outputs": [],
   "source": [
    "\n"
   ],
   "metadata": {
    "collapsed": false,
    "pycharm": {
     "name": "#%%\n",
     "is_executing": false
    }
   }
  }
 ],
 "metadata": {
  "kernelspec": {
   "display_name": "Python 3",
   "language": "python",
   "name": "python3"
  },
  "language_info": {
   "codemirror_mode": {
    "name": "ipython",
    "version": 2
   },
   "file_extension": ".py",
   "mimetype": "text/x-python",
   "name": "python",
   "nbconvert_exporter": "python",
   "pygments_lexer": "ipython2",
   "version": "2.7.6"
  },
  "pycharm": {
   "stem_cell": {
    "cell_type": "raw",
    "source": [],
    "metadata": {
     "collapsed": false
    }
   }
  }
 },
 "nbformat": 4,
 "nbformat_minor": 0
}