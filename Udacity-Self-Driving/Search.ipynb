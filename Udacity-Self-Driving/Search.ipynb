{
 "cells": [
  {
   "cell_type": "code",
   "execution_count": 1,
   "outputs": [],
   "source": [
    "# ----------\n",
    "# User Instructions:\n",
    "# \n",
    "# Define a function, search() that returns a list\n",
    "# in the form of [optimal path length, row, col]. For\n",
    "# the grid shown below, your function should output\n",
    "# [11, 4, 5].\n",
    "#\n",
    "# If there is no valid path from the start point\n",
    "# to the goal, your function should return the string\n",
    "# 'fail'\n",
    "# ----------\n",
    "\n",
    "# Grid format:\n",
    "#   0 = Navigable space\n",
    "#   1 = Occupied space\n",
    "\n",
    "\n",
    "grid = [[0, 0, 1, 0, 0, 0],\n",
    "        [0, 0, 1, 0, 0, 0],\n",
    "        [0, 0, 0, 0, 1, 0],\n",
    "        [0, 0, 1, 1, 1, 0],\n",
    "        [0, 0, 0, 0, 1, 0]]\n",
    "init = [0, 0]\n",
    "goal = [len(grid)-1, len(grid[0])-1]\n",
    "cost = 1\n",
    "\n",
    "delta = [[-1, 0], # go up\n",
    "         [ 0,-1], # go left\n",
    "         [ 1, 0], # go down\n",
    "         [ 0, 1]] # go right\n",
    "\n",
    "delta_name = ['^', '<', 'v', '>']\n"
   ],
   "metadata": {
    "collapsed": false,
    "pycharm": {
     "name": "#%%\n",
     "is_executing": false
    }
   }
  },
  {
   "cell_type": "code",
   "execution_count": 2,
   "outputs": [],
   "source": [
    "def search(grid,init,goal,cost):\n",
    "    closed = grid\n",
    "    open_ = [[0]+init]\n",
    "    grid_height = len(grid)\n",
    "    grid_width = len(grid[0])\n",
    "    found = False\n",
    "    resign = False\n",
    "    while found == False and resign == False:\n",
    "        open_.sort(key=lambda x: x[0])\n",
    "        next_ = open_[0]\n",
    "        open_.reverse()\n",
    "        open_.pop()\n",
    "        if next_[1] == goal[0] and next_[-1] == goal[1]:\n",
    "            found = True\n",
    "            return next_\n",
    "        for move in delta:\n",
    "            g_ = next_[0]+cost\n",
    "            y_ = next_[1]+move[0]\n",
    "            x_ = next_[2]+move[1]\n",
    "            if 0 <= y_ < grid_height and 0 <= x_ < grid_width and closed[y_][x_]==0:\n",
    "                open_.append([g_,y_,x_])\n",
    "                closed[y_][x_] = 1\n",
    "        if len(open_) == 0:\n",
    "            resign = True\n",
    "            print('fail')\n",
    "            return [-1,-1,-1]\n",
    "    return next_"
   ],
   "metadata": {
    "collapsed": false,
    "pycharm": {
     "name": "#%%\n",
     "is_executing": false
    }
   }
  },
  {
   "cell_type": "code",
   "execution_count": 5,
   "outputs": [
    {
     "name": "stdout",
     "text": [
      "fail\n"
     ],
     "output_type": "stream"
    }
   ],
   "source": [
    "a = search(grid,init,goal,cost)\n",
    "\n"
   ],
   "metadata": {
    "collapsed": false,
    "pycharm": {
     "name": "#%%\n",
     "is_executing": false
    }
   }
  }
 ],
 "metadata": {
  "kernelspec": {
   "display_name": "Python 3",
   "language": "python",
   "name": "python3"
  },
  "language_info": {
   "codemirror_mode": {
    "name": "ipython",
    "version": 2
   },
   "file_extension": ".py",
   "mimetype": "text/x-python",
   "name": "python",
   "nbconvert_exporter": "python",
   "pygments_lexer": "ipython2",
   "version": "2.7.6"
  },
  "pycharm": {
   "stem_cell": {
    "cell_type": "raw",
    "source": [],
    "metadata": {
     "collapsed": false
    }
   }
  }
 },
 "nbformat": 4,
 "nbformat_minor": 0
}